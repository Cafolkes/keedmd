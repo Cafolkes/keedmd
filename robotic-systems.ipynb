{
 "cells": [
  {
   "cell_type": "markdown",
   "metadata": {
    "slideshow": {
     "slide_type": "slide"
    }
   },
   "source": [
    "# Robotic Systems\n",
    "\n",
    "$\\newcommand{\\mb}[1]{\\mathbf{ #1 }}$\n",
    "$\\newcommand{\\bb}[1]{\\mathbb{ #1 }}$\n",
    "$\\newcommand{\\bs}[1]{\\boldsymbol{ #1 }}$\n",
    "$\\newcommand{\\norm}[1]{\\left\\Vert #1 \\right\\Vert}$\n",
    "$\\newcommand{\\ip}[2]{\\left\\langle #1, #2 \\right\\rangle}$\n",
    "$\\newcommand{\\der}[2]{\\frac{\\mathrm{d} #1 }{\\mathrm{d} #2 }}$\n",
    "$\\newcommand{\\derp}[2]{\\frac{\\partial #1 }{\\partial #2 }}$\n",
    "\n",
    "$\\newcommand{\\R}{\\bb{R}}$"
   ]
  },
  {
   "cell_type": "markdown",
   "metadata": {
    "slideshow": {
     "slide_type": "slide"
    }
   },
   "source": [
    "## Dynamics\n",
    "\n",
    "Let $\\mathcal{Q} \\subseteq \\R^n$ be a configuration space. Let $T: \\mathcal{Q} \\times \\R^n \\to \\R_+$ and $U: \\mathcal{Q} \\to \\R$ denote the kinetic and potential energies of the system, respectively. "
   ]
  },
  {
   "cell_type": "markdown",
   "metadata": {
    "slideshow": {
     "slide_type": "fragment"
    }
   },
   "source": [
    "The kinetic energy satisfies:\n",
    "\n",
    "\\begin{equation}\n",
    "    T(\\mb{q}, \\dot{\\mb{q}}) = \\frac{1}{2}\\dot{\\mb{q}}^\\top\\mb{D}(\\mb{q})\\dot{\\mb{q}},\n",
    "\\end{equation}\n",
    "\n",
    "for all coordinates $\\mb{q} \\in \\mathcal{Q}$ and coordinate rates $\\dot{\\mb{q}} \\in \\R^n$, with inertia matrix function $\\mb{D}: \\mathcal{Q} \\to \\bb{S}^n_{++}$. Here, $\\bb{S}^n_{++}$ denotes the set of positive definite $n \\times n$ symmetric matrices. "
   ]
  },
  {
   "cell_type": "markdown",
   "metadata": {
    "slideshow": {
     "slide_type": "subslide"
    }
   },
   "source": [
    "Let $\\mathcal{L}: \\mathcal{Q} \\times \\R^n \\to \\R$ denote the system Lagrangian, defined as $\\mathcal{L}(\\mb{q}, \\dot{\\mb{q}}) = T(\\mb{q}, \\dot{\\mb{q}}) - U(\\mb{q})$ for all $\\mb{q} \\in \\mathcal{Q}$ and $\\dot{\\mb{q}} \\in \\R^n$. "
   ]
  },
  {
   "cell_type": "markdown",
   "metadata": {
    "slideshow": {
     "slide_type": "fragment"
    }
   },
   "source": [
    "The system Lagrangian and actions are related via the Euler-Lagrange equation:\n",
    "\n",
    "\\begin{equation}\n",
    "    \\der{}{t}\\left( \\derp{\\mathcal{L}}{\\dot{\\mb{q}}} \\right)^\\top + \\left(\\derp{\\mathcal{L}}{\\mb{q}}\\right)^\\top = \\mb{B}\\mb{u},\n",
    "\\end{equation}\n",
    "\n",
    "for all $\\mb{q} \\in \\mathcal{Q}$, $\\dot{\\mb{q}} \\in \\R^n$, and actions $\\mb{u} \\in \\mathcal{U}$, with full-rank static actuation matrix $\\mb{B} \\in \\mathbb{R}^{n \\times m}$."
   ]
  },
  {
   "cell_type": "markdown",
   "metadata": {
    "slideshow": {
     "slide_type": "subslide"
    }
   },
   "source": [
    "To obtain the equations of motion of the system, we expand the terms in the Euler-Lagrange equation as:\n",
    "\n",
    "\\begin{equation}\n",
    "    \\der{}{t}\\left(\\derp{T}{\\dot{\\mb{q}}}\\right)^\\top - \\left(\\derp{T}{\\mb{q}}\\right)^\\top + \\left(\\derp{U}{\\mb{q}}\\right)^\\top = \\der{}{t} (\\mb{D}(\\mb{q})\\dot{\\mb{q}}) - \\frac{1}{2}\\derp{\\mb{D}}{\\mb{q}}(\\dot{\\mb{q}}, \\dot{\\mb{q}}, \\cdot) + \\left(\\derp{U}{\\mb{q}}\\right)^\\top.\n",
    "\\end{equation}"
   ]
  },
  {
   "cell_type": "markdown",
   "metadata": {
    "slideshow": {
     "slide_type": "fragment"
    }
   },
   "source": [
    "Here, $\\derp{\\mb{D}}{\\mb{q}}: \\mathcal{Q} \\to \\R^{n \\times n \\times n}$ is represented as a multilinear operator-valued function, with:\n",
    "\n",
    "\\begin{equation}\n",
    "    \\derp{\\mb{D}}{\\mb{q}}(\\mb{e}_i, \\mb{e}_j, \\mb{e}_k) = \\derp{D_{ij}(\\mb{q})}{q_k},\n",
    "\\end{equation}\n",
    "\n",
    "for all $\\mb{q} \\in \\mathcal{Q}$ and $i, j, k \\in \\{1, \\dots, n\\}$. Here, $\\mb{e}_i, \\mb{e}_j, \\mb{e}_k \\in \\R^n$ denote elementary basis vectors."
   ]
  },
  {
   "cell_type": "markdown",
   "metadata": {
    "slideshow": {
     "slide_type": "fragment"
    }
   },
   "source": [
    "$\\derp{\\mb{D}}{\\mb{q}}(\\dot{\\mb{q}}, \\dot{\\mb{q}}, \\cdot): \\mathcal{Q} \\to \\R^n$ denotes a tensor contraction in the first two arguments."
   ]
  },
  {
   "cell_type": "markdown",
   "metadata": {
    "slideshow": {
     "slide_type": "subslide"
    }
   },
   "source": [
    "Further expansion yields:\n",
    "\n",
    "\\begin{equation}\n",
    "    \\mb{D}(\\mb{q})\\ddot{\\mb{q}} + \\underbrace{\\derp{\\mb{D}}{\\mb{q}}(\\cdot, \\dot{\\mb{q}}, \\dot{\\mb{q}}) - \\frac{1}{2}\\derp{\\mb{D}}{\\mb{q}}(\\dot{\\mb{q}}, \\dot{\\mb{q}}, \\cdot)}_{\\mb{C}(\\mb{q}, \\dot{\\mb{q}})\\dot{\\mb{q}}} + \\underbrace{\\left(\\derp{U}{\\mb{q}}\\right)^\\top}_{\\mb{G}(\\mb{q})} = \\mb{B}\\mb{u},\n",
    "\\end{equation}\n",
    "\n",
    "with Coriolis terms $\\mb{C}: \\mathcal{Q} \\times \\R^n \\to \\R^{n \\times n}$ and potential (typically gravity) terms $\\mb{G}: \\mathcal{Q} \\to \\R^n$."
   ]
  },
  {
   "cell_type": "markdown",
   "metadata": {
    "slideshow": {
     "slide_type": "fragment"
    }
   },
   "source": [
    "The Coriolis terms come from:\n",
    "\n",
    "\\begin{align}\n",
    "    \\derp{\\mb{D}}{\\mb{q}}(\\cdot, \\dot{\\mb{q}}, \\dot{\\mb{q}}) - \\frac{1}{2}\\derp{\\mb{D}}{\\mb{q}}(\\dot{\\mb{q}}, \\dot{\\mb{q}}, \\cdot) &= \\derp{\\mb{D}}{\\mb{q}}(\\cdot, \\dot{\\mb{q}}, \\cdot)\\dot{\\mb{q}} - \\frac{1}{2} \\left( \\dot{\\mb{q}}^\\top \\derp{\\mb{D}}{\\mb{q}}(\\cdot, \\dot{\\mb{q}}, \\cdot) \\right)^\\top\\\\\n",
    "    &= \\underbrace{\\left( \\derp{\\mb{D}}{\\mb{q}}(\\cdot, \\dot{\\mb{q}}, \\cdot) - \\frac{1}{2} \\left( \\derp{\\mb{D}}{\\mb{q}}(\\cdot, \\dot{\\mb{q}}, \\cdot) \\right)^\\top \\right)}_{\\mb{C}(\\mb{q}, \\dot{\\mb{q}})} \\dot{\\mb{q}}\n",
    "\\end{align}"
   ]
  },
  {
   "cell_type": "markdown",
   "metadata": {
    "slideshow": {
     "slide_type": "subslide"
    }
   },
   "source": [
    "The equations of motion can be expressed as:\n",
    "\n",
    "\\begin{equation}\n",
    "    \\mb{D}(\\mb{q})\\ddot{\\mb{q}} + \\underbrace{\\mb{C}(\\mb{q}, \\dot{\\mb{q}})\\dot{\\mb{q}} + \\mb{G}(\\mb{q})}_{\\mb{H}(\\mb{q}, \\dot{\\mb{q}})} = \\mb{B}\\mb{u},\n",
    "\\end{equation}\n",
    "\n",
    "with nonlinear terms $\\mb{H}: \\mathcal{Q} \\times \\R^n \\to \\R^n$."
   ]
  },
  {
   "cell_type": "markdown",
   "metadata": {
    "slideshow": {
     "slide_type": "fragment"
    }
   },
   "source": [
    "Alternatively, the equations can be expressed as an system of first-order equations:\n",
    "\n",
    "\\begin{equation}\n",
    "    \\der{}{t} \\begin{bmatrix} \\mb{q} \\\\ \\dot{\\mb{q}} \\end{bmatrix} = \\begin{bmatrix} \\dot{\\mb{q}} \\\\ -\\mb{D}(\\mb{q})^{-1}\\mb{H}(\\mb{q}, \\dot{\\mb{q}}) \\end{bmatrix} + \\begin{bmatrix} \\mb{0}_{n \\times m} \\\\ \\mb{D}(\\mb{q})^{-1}\\mb{B} \\end{bmatrix}\\mb{u},\n",
    "\\end{equation}\n",
    "\n",
    "with dynamics affine in the action."
   ]
  },
  {
   "cell_type": "markdown",
   "metadata": {
    "slideshow": {
     "slide_type": "slide"
    }
   },
   "source": [
    "## Control: Full Actuation\n",
    "\n",
    "Assume $m = n$, in which case $\\mb{B}$ is invertible. Suppose we want to drive the system to a desired configuration $\\mb{q}_d \\in \\mathcal{Q}$ (trajectory tracking strategies more closely resemble strategies for underactuated systems). We have a number of nonlinear control techniques to employ."
   ]
  },
  {
   "cell_type": "markdown",
   "metadata": {
    "slideshow": {
     "slide_type": "fragment"
    }
   },
   "source": [
    "We can induce linear dynamics with linearizing feedback, and then apply linear control techniques to stabilize the resulting system."
   ]
  },
  {
   "cell_type": "markdown",
   "metadata": {
    "slideshow": {
     "slide_type": "fragment"
    }
   },
   "source": [
    "We can specify an energy-based Lyapunov function and generate an associated asymptotically-stabilizing controller."
   ]
  },
  {
   "cell_type": "markdown",
   "metadata": {
    "slideshow": {
     "slide_type": "fragment"
    }
   },
   "source": [
    "Finally, we can specify a Lyapunov function through feedback linearization and generate an optimization-based exponentially-stabilizing controller."
   ]
  },
  {
   "cell_type": "markdown",
   "metadata": {
    "slideshow": {
     "slide_type": "slide"
    }
   },
   "source": [
    "## Example: Inverted Pendulum\n",
    "\n",
    "Consider a frictionless inverted pendulum, modeled as a massless rod of length $l$ with torque input $\\tau$ at a fixed base and point mass $m$ at the opposite end of the rod. "
   ]
  },
  {
   "cell_type": "markdown",
   "metadata": {
    "slideshow": {
     "slide_type": "fragment"
    }
   },
   "source": [
    "Consider inertial reference frame $\\mathcal{I} = (\\mb{i}_1, \\mb{i}_2, \\mb{i}_3)$ and body reference frame $\\mathcal{B} = (\\mb{b}_1, \\mb{b}_2, \\mb{b}_3)$, with $\\mb{b}_3 = \\mb{i}_3$."
   ]
  },
  {
   "cell_type": "markdown",
   "metadata": {
    "slideshow": {
     "slide_type": "fragment"
    }
   },
   "source": [
    "Let $\\mb{f}^{\\mathcal{I}} = -mg \\mb{e}_1$ denote the gravitational force resolved in the inertial frame and let $\\mb{r}^\\mathcal{B} = l \\mb{e}_1$ denote the position of the mass relative to the base resolved in the body frame. Here $\\mb{e}_1$ denotes the first elementary basis vector."
   ]
  },
  {
   "cell_type": "markdown",
   "metadata": {
    "slideshow": {
     "slide_type": "fragment"
    }
   },
   "source": [
    "Suppose the angle from upright $\\theta$ is measured along with the corresponding angular rate $\\dot{\\theta}$."
   ]
  },
  {
   "cell_type": "markdown",
   "metadata": {
    "slideshow": {
     "slide_type": "subslide"
    }
   },
   "source": [
    "The direction cosine matrix (DCM) relating body frame coordinates to inertial frame coordinates is:\n",
    "\n",
    "\\begin{equation}\n",
    "    \\mb{C}^{\\mathcal{B}\\mathcal{I}} = \\begin{bmatrix} \\ip{\\mb{b}_1}{\\mb{i}_1} & \\ip{\\mb{b}_1}{\\mb{i}_2} & \\ip{\\mb{b}_1}{\\mb{i}_3} \\\\\n",
    "    \\ip{\\mb{b}_2}{\\mb{i}_1} & \\ip{\\mb{b}_2}{\\mb{i}_2} & \\ip{\\mb{b}_2}{\\mb{i}_3} \\\\ \n",
    "    \\ip{\\mb{b}_3}{\\mb{i}_1} & \\ip{\\mb{b}_3}{\\mb{i}_2} & \\ip{\\mb{b}_3}{\\mb{i}_3} \\end{bmatrix} = \\underbrace{\\begin{bmatrix} \\cos{\\theta} & \\sin{\\theta} & 0 \\\\ -\\sin{\\theta} & \\cos{\\theta} & 0 \\\\ 0 & 0 & 1\n",
    "    \\end{bmatrix}}_{\\mb{R}(\\theta)^\\top},\n",
    "\\end{equation}\n",
    "\n",
    "noting that $\\cos{\\left( \\frac{\\pi}{2} - \\theta \\right)} = \\sin{\\theta}$."
   ]
  },
  {
   "cell_type": "markdown",
   "metadata": {
    "slideshow": {
     "slide_type": "fragment"
    }
   },
   "source": [
    "Because $\\mb{C}^{\\mathcal{B}\\mathcal{I}}$ is orthogonal, $\\mb{C}^{\\mathcal{I}\\mathcal{B}} = \\left( \\mb{C}^{\\mathcal{B}\\mathcal{I}} \\right)^{-1} = \\left( \\mb{C}^{\\mathcal{B}\\mathcal{I}} \\right)^\\top$."
   ]
  },
  {
   "cell_type": "markdown",
   "metadata": {
    "slideshow": {
     "slide_type": "fragment"
    }
   },
   "source": [
    "The position of the mass relative to the base is resolved in the inertial frame as:\n",
    "\n",
    "\\begin{align}\n",
    "    \\mb{r}^{\\mathcal{I}} &= \\mb{C}^{\\mathcal{I}\\mathcal{B}}\\mb{r}^\\mathcal{B}\\\\\n",
    "    &= l \\mb{R}(\\theta)\\mb{e}_1.\n",
    "\\end{align}"
   ]
  },
  {
   "cell_type": "markdown",
   "metadata": {
    "slideshow": {
     "slide_type": "subslide"
    }
   },
   "source": [
    "The corresponding velocity is resolved in the inertial frame as:\n",
    "\n",
    "\\begin{equation}\n",
    "    \\dot{\\mb{r}}^{\\mathcal{I}} = l \\dot{\\theta} \\der{\\mb{R}}{\\theta} \\mb{e}_1.\n",
    "\\end{equation}"
   ]
  },
  {
   "cell_type": "markdown",
   "metadata": {
    "slideshow": {
     "slide_type": "fragment"
    }
   },
   "source": [
    "Here:\n",
    "\n",
    "\\begin{equation}\n",
    "    \\der{\\mb{R}}{\\theta} = \\begin{bmatrix} -\\sin{\\theta} & \\cos{\\theta} & 0 \\\\ -\\cos{\\theta} & -\\sin{\\theta} & 0 \\\\ 0 & 0 & 0 \\end{bmatrix}.\n",
    "\\end{equation}"
   ]
  },
  {
   "cell_type": "markdown",
   "metadata": {
    "slideshow": {
     "slide_type": "fragment"
    }
   },
   "source": [
    "Finally, the associated kinetic energy is:\n",
    "\n",
    "\\begin{align}\n",
    "    T(\\theta, \\dot{\\theta}) &= \\frac{1}{2}m \\norm{\\dot{\\mb{r}}^\\mathcal{I}}_2^2\\\\\n",
    "    &= \\frac{1}{2} ml^2 \\dot{\\theta}^2 (\\sin^2{\\theta} + \\cos^2{\\theta})\\\\\n",
    "    &= \\frac{1}{2} ml^2 \\dot{\\theta}^2.\n",
    "\\end{align}"
   ]
  },
  {
   "cell_type": "markdown",
   "metadata": {
    "slideshow": {
     "slide_type": "subslide"
    }
   },
   "source": [
    "The kinetic energy can be expressed as:\n",
    "\n",
    "\\begin{equation}\n",
    "    T(\\theta, \\dot{\\theta}) = \\frac{1}{2} D \\dot{\\theta}^2,\n",
    "\\end{equation}\n",
    "\n",
    "for static inertia $D = ml^2$."
   ]
  },
  {
   "cell_type": "markdown",
   "metadata": {
    "slideshow": {
     "slide_type": "fragment"
    }
   },
   "source": [
    "Since the inertia is not a function of the angle $\\theta$, there are no Coriolis terms and $C = 0$."
   ]
  },
  {
   "cell_type": "markdown",
   "metadata": {
    "slideshow": {
     "slide_type": "subslide"
    }
   },
   "source": [
    "On the other hand, the potential energy of the system is:\n",
    "\n",
    "\\begin{align}\n",
    "    U(\\theta) &= -\\left(\\mb{f}^\\mathcal{I}\\right)^\\top \\mb{r}^{\\mathcal{I}}\\\\\n",
    "    &= mgl \\mb{e}_1^\\top \\mb{R}(\\theta) \\mb{e}_1\\\\\n",
    "    &= mgl \\cos{\\theta}.\n",
    "\\end{align}"
   ]
  },
  {
   "cell_type": "markdown",
   "metadata": {
    "slideshow": {
     "slide_type": "fragment"
    }
   },
   "source": [
    "This yields:\n",
    "\n",
    "\\begin{equation}\n",
    "    G(\\theta) = \\der{U}{\\theta} = -mgl\\sin{\\theta}.\n",
    "\\end{equation}"
   ]
  },
  {
   "cell_type": "markdown",
   "metadata": {
    "slideshow": {
     "slide_type": "subslide"
    }
   },
   "source": [
    "The system Lagrangian is therefore:\n",
    "\n",
    "\\begin{align}\n",
    "    \\mathcal{L}(\\theta, \\dot{\\theta}) &= T(\\theta, \\dot{\\theta}) - U(\\theta)\\\\\n",
    "    &= \\frac{1}{2}ml\\dot{\\theta}^2 - mgl\\cos{\\theta}.\n",
    "\\end{align}"
   ]
  },
  {
   "cell_type": "markdown",
   "metadata": {
    "slideshow": {
     "slide_type": "fragment"
    }
   },
   "source": [
    "The equations of motion are:\n",
    "\n",
    "\\begin{equation}\n",
    "    D\\ddot{\\theta} + G(\\theta) = ml^2 \\ddot{\\theta} - mgl\\sin{\\theta} = \\tau,\n",
    "\\end{equation}\n",
    "\n",
    "assuming the static actuation is identity."
   ]
  },
  {
   "cell_type": "markdown",
   "metadata": {
    "slideshow": {
     "slide_type": "fragment"
    }
   },
   "source": [
    "In first order form, the equations of motion are expressed as:\n",
    "\n",
    "\\begin{equation}\n",
    "    \\der{}{t} \\begin{bmatrix} \\theta \\\\ \\dot{\\theta} \\end{bmatrix} = \\begin{bmatrix} \\dot{\\theta} \\\\ \\frac{g}{l}\\sin{\\theta} \\end{bmatrix} + \\begin{bmatrix} 0 \\\\ \\frac{1}{ml^2} \\end{bmatrix} \\tau.\n",
    "\\end{equation}"
   ]
  },
  {
   "cell_type": "code",
   "execution_count": 1,
   "metadata": {
    "slideshow": {
     "slide_type": "subslide"
    }
   },
   "outputs": [],
   "source": [
    "# %load core/systems/inverted_pendulum.py\n",
    "from numpy import array, cos, sin\n",
    "\n",
    "from core.dynamics import RoboticDynamics, SystemDynamics\n",
    "\n",
    "class InvertedPendulum(SystemDynamics, RoboticDynamics):\n",
    "    def __init__(self, m, l, g=9.81):\n",
    "        SystemDynamics.__init__(self, 2, 1)\n",
    "        RoboticDynamics.__init__(self, array([[1]]))\n",
    "        self.params = m, l, g\n",
    "        \n",
    "    def D(self, q):\n",
    "        m, l, _ = self.params\n",
    "        return array([[m * (l ** 2)]])\n",
    "    \n",
    "    def C(self, q, q_dot):\n",
    "        return array([[0]])\n",
    "    \n",
    "    def U(self, q):\n",
    "        m, l, g = self.params\n",
    "        theta, = q\n",
    "        return m * g * l * cos(theta)\n",
    "    \n",
    "    def G(self, q):\n",
    "        m, l, g = self.params\n",
    "        theta, = q\n",
    "        return array([-m * g * l * sin(theta)])"
   ]
  },
  {
   "cell_type": "markdown",
   "metadata": {
    "slideshow": {
     "slide_type": "subslide"
    }
   },
   "source": [
    "We can create an inverted pendulum system with a mass of $0.25$ kg and a length of $0.5$ m."
   ]
  },
  {
   "cell_type": "code",
   "execution_count": 2,
   "metadata": {
    "slideshow": {
     "slide_type": "fragment"
    }
   },
   "outputs": [],
   "source": [
    "m, l = 0.25, 0.5\n",
    "ip = InvertedPendulum(m, l)"
   ]
  },
  {
   "cell_type": "markdown",
   "metadata": {
    "slideshow": {
     "slide_type": "slide"
    }
   },
   "source": [
    "## Feedback Linearization\n",
    "\n",
    "Let $\\bs{\\nu}$ denote an auxilliary action to be specified later. Consider the controller:\n",
    "\n",
    "\\begin{align}\n",
    "    \\mb{u} &= (\\mb{D}(\\mb{q})^{-1}\\mb{B})^{-1}(\\mb{D}(\\mb{q})^{-1}\\mb{H}(\\mb{q}, \\dot{\\mb{q}}) + \\bs{\\nu})\\\\\n",
    "    &= \\mb{B}^{-1}(\\mb{H}(\\mb{q}, \\dot{\\mb{q}}) + \\mb{D}(\\mb{q})\\bs{\\nu}).\n",
    "\\end{align}"
   ]
  },
  {
   "cell_type": "markdown",
   "metadata": {
    "slideshow": {
     "slide_type": "fragment"
    }
   },
   "source": [
    "This controller induces dynamics:\n",
    "\n",
    "\\begin{equation}\n",
    "    \\mb{D}(\\mb{q})\\ddot{\\mb{q}} = \\mb{D}(\\mb{q})\\bs{\\nu}.\n",
    "\\end{equation}"
   ]
  },
  {
   "cell_type": "markdown",
   "metadata": {
    "slideshow": {
     "slide_type": "fragment"
    }
   },
   "source": [
    "Alternatively, the induced dynamics can be represented as:\n",
    "\n",
    "\\begin{equation}\n",
    "    \\underbrace{\\der{}{t}\\begin{bmatrix} \\mb{q} - \\mb{q}_d \\\\ \\dot{\\mb{q}} \\end{bmatrix}}_{\\dot{\\mb{x}}} = \\begin{bmatrix} \\dot{\\mb{q}} \\\\ \\bs{\\nu} \\end{bmatrix} = \\underbrace{\\begin{bmatrix} \\mb{0}_{n \\times n} & \\mb{I}_n \\\\ \\mb{0}_{n \\times n} & \\mb{0}_{n \\times n} \\end{bmatrix}}_{\\mb{F}} \\underbrace{\\begin{bmatrix} \\mb{q} - \\mb{q}_d \\\\ \\dot{\\mb{q}} \\end{bmatrix}}_{\\mb{x}} + \\underbrace{\\begin{bmatrix} \\mb{0}_{n \\times m} \\\\ \\mb{I}_m \\end{bmatrix}}_{\\mb{G}} \\bs{\\nu},\n",
    "\\end{equation}\n",
    "\n",
    "which are controllable double integrator dynamics."
   ]
  },
  {
   "cell_type": "markdown",
   "metadata": {
    "slideshow": {
     "slide_type": "subslide"
    }
   },
   "source": [
    "We can now choose any linear controller to stabilize the induced dynamics. For example, we can choose the controller minimizing the infinite-horizon Linear Quadratic Regulator cost:\n",
    "\n",
    "\\begin{equation}\n",
    "    \\int_{t_0}^{\\infty} \\frac{1}{2}\\left(\\mb{x}(t)^\\top\\mb{Q}\\mb{x}(t) + \\bs{\\nu}(t)^\\top\\mb{R}\\bs{\\nu}(t) \\right)\\mathrm{d}t,\n",
    "\\end{equation}\n",
    "\n",
    "for cost matrices $\\mb{Q} \\in \\bb{S}^{2n}_{++}$ and $\\mb{R} \\in \\bb{S}^m_{++}$, and initial time $t_0$."
   ]
  },
  {
   "cell_type": "markdown",
   "metadata": {
    "slideshow": {
     "slide_type": "fragment"
    }
   },
   "source": [
    "The minimizing auxilliary controller is:\n",
    "\n",
    "\\begin{equation}\n",
    "    \\bs{\\nu}^* = -\\underbrace{\\frac{1}{2}\\mb{R}^{-1}\\mb{G}^\\top\\mb{P}}_{\\mb{K}}\\mb{x}.\n",
    "\\end{equation}\n",
    "\n",
    "with $\\mb{P} \\in \\bb{S}^{2n}_{++}$ solving the continuous-time algebraic Riccati equation (CARE):\n",
    "\n",
    "\\begin{equation}\n",
    "    \\mb{F}^\\top\\mb{P} + \\mb{P}\\mb{F} - \\mb{P}\\mb{G}\\mb{R}^{-1}\\mb{G}^\\top\\mb{P} = -\\mb{Q}.\n",
    "\\end{equation}"
   ]
  },
  {
   "cell_type": "markdown",
   "metadata": {
    "slideshow": {
     "slide_type": "fragment"
    }
   },
   "source": [
    "Importantly, this controller need not be optimal in terms of the cost of actions $\\mb{u}$."
   ]
  },
  {
   "cell_type": "markdown",
   "metadata": {
    "slideshow": {
     "slide_type": "subslide"
    }
   },
   "source": [
    "Let's create a linearizing feedback controller for the inverted pendulum with $Q = 10 \\cdot \\mb{I}_2$ and $R = 1$."
   ]
  },
  {
   "cell_type": "code",
   "execution_count": 3,
   "metadata": {
    "slideshow": {
     "slide_type": "fragment"
    }
   },
   "outputs": [],
   "source": [
    "from numpy import identity\n",
    "from core.controllers import FBLinController, LQRController\n",
    "\n",
    "Q, R = 10 * identity(2), identity(1)\n",
    "lqr = LQRController.build(ip, Q, R)\n",
    "fb_lin = FBLinController(ip, lqr)"
   ]
  },
  {
   "cell_type": "markdown",
   "metadata": {
    "slideshow": {
     "slide_type": "fragment"
    }
   },
   "source": [
    "We simulate the system for $10$ seconds with control frequency of $100$ Hz from initial conditions $\\theta = 1$ rad and $\\dot{\\theta} = 0$ rad/sec."
   ]
  },
  {
   "cell_type": "code",
   "execution_count": 4,
   "metadata": {
    "slideshow": {
     "slide_type": "fragment"
    }
   },
   "outputs": [],
   "source": [
    "from numpy import linspace\n",
    "\n",
    "x_0 = array([1, 0])\n",
    "ts = linspace(0, 10, 1000 + 1)\n",
    "fb_lin_data = ip.simulate(x_0, fb_lin, ts)"
   ]
  },
  {
   "cell_type": "code",
   "execution_count": 5,
   "metadata": {
    "slideshow": {
     "slide_type": "subslide"
    }
   },
   "outputs": [],
   "source": [
    "from matplotlib.pyplot import figure, grid, plot, show, subplot, xlabel, ylabel"
   ]
  },
  {
   "cell_type": "code",
   "execution_count": 6,
   "metadata": {
    "slideshow": {
     "slide_type": "fragment"
    }
   },
   "outputs": [
    {
     "data": {
      "image/png": "[encoded data removed]",
      "text/plain": [
       "<matplotlib.figure.Figure at 0x111fa7550>"
      ]
     },
     "metadata": {},
     "output_type": "display_data"
    }
   ],
   "source": [
    "xs, us = fb_lin_data\n",
    "\n",
    "figure(figsize=(12, 4))\n",
    "\n",
    "subplot(121)\n",
    "plot(ts, xs[:, 0], linewidth=3)\n",
    "grid()\n",
    "xlabel('Time (sec)', fontsize=16); ylabel('$\\\\theta$', fontsize=16)\n",
    "\n",
    "subplot(122)\n",
    "plot(ts[:-1], us, linewidth=3)\n",
    "grid()\n",
    "xlabel('Time (sec)', fontsize=16); ylabel('$\\\\tau$', fontsize=16)\n",
    "\n",
    "show()"
   ]
  },
  {
   "cell_type": "markdown",
   "metadata": {
    "slideshow": {
     "slide_type": "slide"
    }
   },
   "source": [
    "## Energy-Based Lyapunov Functions\n",
    "\n",
    "From the Euler-Lagrange equation, the time-derivative of kinetic energy satisfies:\n",
    "\n",
    "\\begin{align}\n",
    "    \\dot{T}(\\mb{q}, \\dot{\\mb{q}}, \\mb{u}) &= \\derp{T}{\\mb{q}}\\dot{\\mb{q}} + \\derp{T}{\\dot{\\mb{q}}}\\ddot{\\mb{q}}\\\\\n",
    "    &= \\left(\\der{}{t}\\left(\\derp{T}{\\dot{\\mb{q}}}\\right) + \\derp{U}{\\mb{q}} - (\\mb{B}\\mb{u})^\\top \\right)\\dot{\\mb{q}} + \\derp{T}{\\dot{\\mb{q}}}\\ddot{\\mb{q}}\n",
    "\\end{align}"
   ]
  },
  {
   "cell_type": "markdown",
   "metadata": {
    "slideshow": {
     "slide_type": "fragment"
    }
   },
   "source": [
    "Rearranging terms, we obtain:\n",
    "\n",
    "\\begin{align}\n",
    "    \\dot{T}(\\mb{q}, \\dot{\\mb{q}}, \\mb{u}) &= \\left(\\der{}{t}\\left(\\derp{T}{\\dot{\\mb{q}}}\\right)\\dot{\\mb{q}} + \\derp{T}{\\dot{\\mb{q}}}\\ddot{\\mb{q}}\\right) + \\dot{U}(\\mb{q}, \\dot{\\mb{q}}) - \\dot{\\mb{q}}^\\top\\mb{B}\\mb{u}\\\\\n",
    "    &= \\der{}{t}\\left( \\derp{T}{\\dot{\\mb{q}}}\\dot{\\mb{q}} \\right) + \\dot{U}(\\mb{q}, \\dot{\\mb{q}}) - \\dot{\\mb{q}}^\\top\\mb{B}\\mb{u} \n",
    "\\end{align}"
   ]
  },
  {
   "cell_type": "markdown",
   "metadata": {
    "slideshow": {
     "slide_type": "subslide"
    }
   },
   "source": [
    "Note that:\n",
    "\n",
    "\\begin{align}\n",
    "    \\der{}{t}\\left( \\derp{T}{\\dot{\\mb{q}}}\\dot{\\mb{q}} \\right) = \\der{}{t} \\left( \\dot{\\mb{q}}^\\top\\mb{D}(\\mb{q})\\dot{\\mb{q}} \\right) = 2\\dot{T}(\\mb{q}, \\dot{\\mb{q}}, \\mb{u}).\n",
    "\\end{align}"
   ]
  },
  {
   "cell_type": "markdown",
   "metadata": {
    "slideshow": {
     "slide_type": "fragment"
    }
   },
   "source": [
    "Therefore, we have:\n",
    "\n",
    "\\begin{equation}\n",
    "    \\dot{T}(\\mb{q}, \\dot{\\mb{q}}, \\mb{u}) + \\dot{U}(\\mb{q}, \\dot{\\mb{q}}) = \\dot{\\mb{q}}^\\top\\mb{B}\\mb{u}.\n",
    "\\end{equation}"
   ]
  },
  {
   "cell_type": "markdown",
   "metadata": {
    "slideshow": {
     "slide_type": "fragment"
    }
   },
   "source": [
    "Defining total energy $E: \\mathcal{Q} \\times \\R^n \\to \\R$ as $E(\\mb{q}, \\dot{\\mb{q}}) = T(\\mb{q}, \\dot{\\mb{q}}) + U(\\mb{q})$ for all $\\mb{q} \\in \\mathcal{Q}$ and $\\dot{\\mb{q}} \\in \\R^n$ yields:\n",
    "\n",
    "\\begin{equation}\n",
    "    \\dot{E}(\\mb{q}, \\dot{\\mb{q}}, \\mb{u}) = \\dot{\\mb{q}}^\\top\\mb{B}\\mb{u}.\n",
    "\\end{equation}\n",
    "\n",
    "With no control, energy is conserved and the system evolves along the level sets of $E$."
   ]
  },
  {
   "cell_type": "markdown",
   "metadata": {
    "slideshow": {
     "slide_type": "subslide"
    }
   },
   "source": [
    "We'll use the energy of the system to motivate a Lyapunov function. Let $V: \\mathcal{Q} \\times \\R^n \\to \\R_+$ be defined as:\n",
    "\n",
    "\\begin{equation}\n",
    "    V(\\mb{q}, \\dot{\\mb{q}}) = T(\\mb{q}, \\dot{\\mb{q}}) + \\frac{1}{2}(\\mb{q} - \\mb{q}_d)^\\top\\mb{K}_P(\\mb{q} - \\mb{q}_d),\n",
    "\\end{equation}\n",
    "\n",
    "for all $\\mb{q} \\in \\mathcal{Q}$ and $\\dot{\\mb{q}} \\in \\R^n$, with proportional gain $\\mb{K}_P \\in \\bb{S}^n_{++}$."
   ]
  },
  {
   "cell_type": "markdown",
   "metadata": {
    "slideshow": {
     "slide_type": "fragment"
    }
   },
   "source": [
    "Note that $V(\\mb{q}, \\dot{\\mb{q}}) = 0$ if only if $\\mb{q} = \\mb{q}_d$ and $\\dot{\\mb{q}} = \\mb{0}_n$. We will design a controller such that this set point is asymptotically stable."
   ]
  },
  {
   "cell_type": "markdown",
   "metadata": {
    "slideshow": {
     "slide_type": "subslide"
    }
   },
   "source": [
    "The time-derivative of $V$ satisfies:\n",
    "\n",
    "\\begin{align}\n",
    "    \\dot{V}(\\mb{q}, \\dot{\\mb{q}}, \\mb{u}) &= \\dot{T}(\\mb{q}, \\dot{\\mb{q}}, \\mb{u}) + (\\mb{q} - \\mb{q}_d)^\\top\\mb{K}_P\\dot{\\mb{q}}\\\\\n",
    "    &= \\dot{\\mb{q}}^\\top\\mb{B}\\mb{u} -\\dot{U}(\\mb{q}, \\dot{\\mb{q}}) + (\\mb{q} - \\mb{q}_d)^\\top\\mb{K}_P\\dot{\\mb{q}}\\\\\n",
    "    &= \\dot{\\mb{q}}^\\top\\left( \\mb{B}\\mb{u} - \\left(\\derp{U}{\\mb{q}}\\right)^\\top + \\mb{K}_P(\\mb{q} - \\dot{\\mb{q}}) \\right).\n",
    "\\end{align}"
   ]
  },
  {
   "cell_type": "markdown",
   "metadata": {
    "slideshow": {
     "slide_type": "fragment"
    }
   },
   "source": [
    "Recall that:\n",
    "\n",
    "\\begin{equation}\n",
    "    \\left(\\derp{U}{\\mb{q}}\\right)^\\top = \\mb{G}(\\mb{q}).\n",
    "\\end{equation}"
   ]
  },
  {
   "cell_type": "markdown",
   "metadata": {
    "slideshow": {
     "slide_type": "fragment"
    }
   },
   "source": [
    "Therefore, we can choose the controller:\n",
    "\n",
    "\\begin{equation}\n",
    "    \\mb{u} = \\mb{B}^{-1}(\\mb{G}(\\mb{q}) - \\mb{K}_P(\\mb{q} - \\mb{q}_d) - \\mb{K}_D\\dot{\\mb{q}}),\n",
    "\\end{equation}\n",
    "\n",
    "with derivative gain $\\mb{K}_D \\in \\bb{S}^n_{++}$."
   ]
  },
  {
   "cell_type": "markdown",
   "metadata": {
    "slideshow": {
     "slide_type": "subslide"
    }
   },
   "source": [
    "Using this controller yields:\n",
    "\n",
    "\\begin{equation}\n",
    "    \\dot{V}(\\mb{q}, \\dot{\\mb{q}}, \\mb{u}) = -\\dot{\\mb{q}}^\\top\\mb{K}_D\\dot{\\mb{q}},\n",
    "\\end{equation}\n",
    "\n",
    "which is negative for all $\\mb{q} \\in \\mathcal{Q}$ and $\\dot{\\mb{q}} \\in \\R^n \\setminus \\{ \\mb{0}_n \\}$."
   ]
  },
  {
   "cell_type": "markdown",
   "metadata": {
    "slideshow": {
     "slide_type": "fragment"
    }
   },
   "source": [
    "When $\\dot{\\mb{q}} = \\mb{0}_n$, the equations of motion yield:\n",
    "\n",
    "\\begin{equation}\n",
    "    \\mb{D}(\\mb{q})\\ddot{\\mb{q}} + \\mb{G}(\\mb{q}) = \\mb{B}\\mb{B}^{-1}(\\mb{G}(\\mb{q}) - \\mb{K}_P(\\mb{q} - \\mb{q}_d)),\n",
    "\\end{equation}\n",
    "\n",
    "or:\n",
    "\n",
    "\\begin{equation}\n",
    "    \\ddot{\\mb{q}} = -\\mb{D}(\\mb{q})^{-1}\\mb{K}_P(\\mb{q} - \\mb{q}_d).\n",
    "\\end{equation}"
   ]
  },
  {
   "cell_type": "markdown",
   "metadata": {
    "slideshow": {
     "slide_type": "fragment"
    }
   },
   "source": [
    "This means the only invariant set with $\\dot{\\mb{q}} = \\mb{0}_n$ uniformly is $\\{ (\\mb{q}_d, \\mb{0}_n) \\}$, and by LaSalle's invariance principle the set point is asymptotically stable."
   ]
  },
  {
   "cell_type": "markdown",
   "metadata": {
    "slideshow": {
     "slide_type": "subslide"
    }
   },
   "source": [
    "Let's create an energy-based controller for the inverted pendulum with $K_P = 1$ and $K_D = 1$ to track an upright angle."
   ]
  },
  {
   "cell_type": "code",
   "execution_count": 7,
   "metadata": {
    "slideshow": {
     "slide_type": "fragment"
    }
   },
   "outputs": [],
   "source": [
    "from core.controllers import EnergyController\n",
    "\n",
    "K_p, K_d = identity(1), identity(1)\n",
    "energy = EnergyController(ip, K_p, K_d)"
   ]
  },
  {
   "cell_type": "code",
   "execution_count": 8,
   "metadata": {
    "slideshow": {
     "slide_type": "fragment"
    }
   },
   "outputs": [],
   "source": [
    "energy_data = ip.simulate(x_0, energy, ts)"
   ]
  },
  {
   "cell_type": "code",
   "execution_count": 9,
   "metadata": {
    "slideshow": {
     "slide_type": "subslide"
    }
   },
   "outputs": [
    {
     "data": {
      "image/png": "[encoded data removed]",
      "text/plain": [
       "<matplotlib.figure.Figure at 0x112db4f60>"
      ]
     },
     "metadata": {},
     "output_type": "display_data"
    }
   ],
   "source": [
    "from matplotlib.pyplot import legend\n",
    "\n",
    "figure(figsize=(12, 4))\n",
    "\n",
    "subplot(121)\n",
    "xs, _ = fb_lin_data; plot(ts, xs[:, 0], linewidth=3, label='FBL')\n",
    "xs, _ = energy_data; plot(ts, xs[:, 0], linewidth=3, label='Energy')\n",
    "grid(); legend(fontsize=16)\n",
    "xlabel('Time (sec)', fontsize=16); ylabel('$\\\\theta$', fontsize=16)\n",
    "\n",
    "subplot(122)\n",
    "_, us = fb_lin_data; plot(ts[:-1], us, linewidth=3, label='FBL')\n",
    "_, us = energy_data; plot(ts[:-1], us, linewidth=3, label='Energy')\n",
    "grid(); legend(fontsize=16)\n",
    "xlabel('Time (sec)', fontsize=16); ylabel('$\\\\tau$', fontsize=16)\n",
    "\n",
    "show()"
   ]
  },
  {
   "cell_type": "markdown",
   "metadata": {
    "slideshow": {
     "slide_type": "slide"
    }
   },
   "source": [
    "## Feeback Linearization-Based Lyapunov Functions\n",
    "\n",
    "Recall that feedback linearization induced controllable linear dynamics:\n",
    "\n",
    "\\begin{equation}\n",
    "    \\dot{\\mb{x}} = \\mb{F}\\mb{x} + \\mb{G}\\bs{\\nu}.\n",
    "\\end{equation}"
   ]
  },
  {
   "cell_type": "markdown",
   "metadata": {
    "slideshow": {
     "slide_type": "fragment"
    }
   },
   "source": [
    "Additionally, solving the CARE gave a matrix $\\mb{P} \\in \\bb{S}^{2n}_{++}$ satisfying:\n",
    "\n",
    "\\begin{equation}\n",
    "    \\mb{F}^\\top\\mb{P} + \\mb{P}\\mb{F} - \\mb{P}\\mb{G}\\mb{R}^{-1}\\mb{G}^\\top\\mb{P} = -\\mb{Q},\n",
    "\\end{equation}\n",
    "\n",
    "for $\\mb{Q} \\in \\bb{S}^{2n}_{++}$ and $\\mb{R} \\in \\bb{S}^m_{++}$."
   ]
  },
  {
   "cell_type": "markdown",
   "metadata": {
    "slideshow": {
     "slide_type": "fragment"
    }
   },
   "source": [
    "Let $V: \\R^{2n} \\to \\R_+$ be defined as $V(\\mb{x}) = \\mb{x}^\\top\\mb{P}\\mb{x}$ for all $\\mb{x} \\in \\R^{2n}$ and note that:\n",
    "\n",
    "\\begin{equation}\n",
    "    \\lambda_{2n}(\\mb{P}) \\norm{\\mb{x}}_2^2 \\leq V(\\mb{x}) \\leq \\lambda_1(\\mb{P}) \\norm{\\mb{x}}_2^2,\n",
    "\\end{equation}\n",
    "\n",
    "with $\\lambda_1(\\cdot)$ and $\\lambda_{2n}(\\cdot)$ denoting maximum and minimum eigenvalues, respectively."
   ]
  },
  {
   "cell_type": "markdown",
   "metadata": {
    "slideshow": {
     "slide_type": "subslide"
    }
   },
   "source": [
    "Let $\\mb{u}_{LF}(\\bs{\\nu})$ denote the linearizing feedback controller with auxilliary control $\\bs{\\nu}$. The time-derivative of $V$ satisfies:\n",
    "\n",
    "\\begin{align}\n",
    "    \\dot{V}(\\mb{x}, \\mb{u}_{LF}(\\bs{\\nu})) &= \\dot{\\mb{x}}^\\top\\mb{P}\\mb{x} + \\mb{x}^\\top\\mb{P}\\dot{\\mb{x}}\\\\\n",
    "    &= \\mb{x}^\\top(\\mb{F}^\\top\\mb{P} + \\mb{P}\\mb{F})\\mb{x} + 2\\mb{x}^\\top\\mb{P}\\mb{G}\\bs{\\nu}.\n",
    "\\end{align}"
   ]
  },
  {
   "cell_type": "markdown",
   "metadata": {
    "slideshow": {
     "slide_type": "fragment"
    }
   },
   "source": [
    "Since $\\mb{P}$, $\\mb{Q}$, and $\\mb{R}$ solve CARE, we obtain:\n",
    "\n",
    "\\begin{equation}\n",
    "    \\dot{V}(\\mb{x}, \\mb{u}_{LF}(\\bs{\\nu})) = -\\mb{x}^\\top\\mb{Q}\\mb{x} + \\mb{x}^\\top\\mb{P}\\mb{G}\\mb{R}^{-1}\\mb{G}^\\top\\mb{P}\\mb{x} + 2\\mb{x}^\\top\\mb{P}\\mb{G}\\bs{\\nu}.\n",
    "\\end{equation}"
   ]
  },
  {
   "cell_type": "markdown",
   "metadata": {
    "slideshow": {
     "slide_type": "fragment"
    }
   },
   "source": [
    "Therefore we can choose the auxilliary controller:\n",
    "\n",
    "\\begin{equation}\n",
    "    \\bs{\\nu}^* = -\\frac{1}{2}\\mb{R}^{-1}\\mb{G}^\\top\\mb{P}\\mb{x},\n",
    "\\end{equation}\n",
    "\n",
    "the same LQR solution obtained previously."
   ]
  },
  {
   "cell_type": "markdown",
   "metadata": {
    "slideshow": {
     "slide_type": "subslide"
    }
   },
   "source": [
    "Using this controller yields:\n",
    "\n",
    "\\begin{equation}\n",
    "    \\dot{V}(\\mb{x}, \\mb{u}_{LF}(\\bs{\\nu}^*)) = -\\mb{x}^\\top\\mb{Q}\\mb{x},\n",
    "\\end{equation}\n",
    "\n",
    "which is negative for all $\\mb{x} \\in \\R^{2n} \\setminus \\{ \\mb{0}_{2n} \\}$."
   ]
  },
  {
   "cell_type": "markdown",
   "metadata": {
    "slideshow": {
     "slide_type": "fragment"
    }
   },
   "source": [
    "This can be bounded further in terms of $\\mb{P}$ and $\\mb{Q}$ as:\n",
    "\n",
    "\\begin{align}\n",
    "    \\dot{V}(\\mb{x}, \\mb{u}_{LF}(\\bs{\\nu}^*)) &\\leq -\\lambda_{2n}(\\mb{Q}) \\norm{\\mb{x}}_2^2\\\\\n",
    "    &\\leq -\\frac{\\lambda_{2n}(\\mb{Q})}{\\lambda_1(\\mb{P})} V(\\mb{x}),\n",
    "\\end{align}\n",
    "\n",
    "for all $\\mb{x} \\in \\R^{2n}$."
   ]
  },
  {
   "cell_type": "markdown",
   "metadata": {
    "slideshow": {
     "slide_type": "subslide"
    }
   },
   "source": [
    "From the comparison principle, it follows that:\n",
    "\n",
    "\\begin{equation}\n",
    "    V(\\mb{x}(t)) \\leq V(\\mb{x}(t_0)) \\exp{\\left( -\\frac{\\lambda_{2n}(\\mb{Q})}{\\lambda_1(\\mb{P})} (t - t_0) \\right)},\n",
    "\\end{equation}\n",
    "\n",
    "for all $t \\geq t_0$ with initial time $t_0$."
   ]
  },
  {
   "cell_type": "markdown",
   "metadata": {
    "slideshow": {
     "slide_type": "fragment"
    }
   },
   "source": [
    "Finally, we obtain:\n",
    "\n",
    "\\begin{equation}\n",
    "    \\norm{\\mb{x}(t)}_2 \\leq \\norm{\\mb{x}(t_0)}_2 \\exp{\\left( -\\frac{\\lambda_{2n}(\\mb{Q})}{2\\lambda_1(\\mb{P})}(t - t_0) \\right)},\n",
    "\\end{equation}\n",
    "\n",
    "showing that the set point $\\mb{0}_{2n}$, corresponding to $\\mb{q} = \\mb{q}_d$ and $\\dot{\\mb{q}} = \\mb{0}_n$, is globally exponentially stable with this controller."
   ]
  },
  {
   "cell_type": "markdown",
   "metadata": {
    "slideshow": {
     "slide_type": "subslide"
    }
   },
   "source": [
    "This controller is no different than the controller obtained through feedback linearization with LQR. However, this construction presents a bound that may be employed in provably feasible optimization-based controllers."
   ]
  },
  {
   "cell_type": "markdown",
   "metadata": {
    "slideshow": {
     "slide_type": "fragment"
    }
   },
   "source": [
    "Let $\\alpha \\geq \\lambda_{2n}(\\mb{Q}) / \\lambda_1(\\mb{P})$ and consider the optimization problem:\n",
    "\n",
    "\\begin{align}\n",
    "    \\inf_{\\mb{u} \\in \\R^m} ~&~ \\mb{u}^\\top\\bs{\\Lambda}\\mb{u}\\\\\n",
    "    \\mathrm{s.t.} ~&~ \\dot{V}(\\mb{x}, \\mb{u}) \\leq -\\alpha V(\\mb{x})\n",
    "\\end{align}\n",
    "\n",
    "for all $\\mb{x} \\in \\R^{2n}$. Here $\\bs{\\Lambda} \\in \\bb{S}^m_{++}$."
   ]
  },
  {
   "cell_type": "markdown",
   "metadata": {
    "slideshow": {
     "slide_type": "fragment"
    }
   },
   "source": [
    "$\\mb{u}_{LF}(\\bs{\\nu})$ is always a feasible solution for this problem."
   ]
  },
  {
   "cell_type": "markdown",
   "metadata": {
    "slideshow": {
     "slide_type": "subslide"
    }
   },
   "source": [
    "To better condition the problem, we can regularize the objective using distance from another controller."
   ]
  },
  {
   "cell_type": "markdown",
   "metadata": {
    "slideshow": {
     "slide_type": "fragment"
    }
   },
   "source": [
    "Let $\\rho \\geq 0$ and, consider the optimization problem:\n",
    "\n",
    "\\begin{align}\n",
    "    \\inf_{\\mb{u} \\in \\R^m} ~&~ \\mb{u}^\\top\\bs{\\Lambda}\\mb{u} + \\rho \\norm{ \\mb{u} - \\mb{u}_0 }_2^2\\\\\n",
    "    \\mathrm{s.t.} ~&~ \\dot{V}(\\mb{x}, \\mb{u}) \\leq -\\alpha V(\\mb{x}),\n",
    "\\end{align}\n",
    "\n",
    "for all $\\mb{x} \\in \\R^{2n}$. Here, $\\mb{u}_0$ is another controller."
   ]
  },
  {
   "cell_type": "markdown",
   "metadata": {
    "slideshow": {
     "slide_type": "subslide"
    }
   },
   "source": [
    "Let's create an optimization-based controller for the inverted pendulum. We'll use the same parameters as we did with the linearizing feedback controller. Additionally, we'll use $\\bs{\\Lambda} = 1$."
   ]
  },
  {
   "cell_type": "code",
   "execution_count": 10,
   "metadata": {
    "slideshow": {
     "slide_type": "fragment"
    }
   },
   "outputs": [],
   "source": [
    "from core.controllers import QPController\n",
    "\n",
    "qp = QPController.build_care(ip, Q, R)"
   ]
  },
  {
   "cell_type": "code",
   "execution_count": 11,
   "metadata": {
    "slideshow": {
     "slide_type": "fragment"
    }
   },
   "outputs": [],
   "source": [
    "qp_data = ip.simulate(x_0, qp, ts)"
   ]
  },
  {
   "cell_type": "code",
   "execution_count": 12,
   "metadata": {
    "slideshow": {
     "slide_type": "subslide"
    }
   },
   "outputs": [
    {
     "data": {
      "image/png": "[encoded data removed]",
      "text/plain": [
       "<matplotlib.figure.Figure at 0x112dea630>"
      ]
     },
     "metadata": {},
     "output_type": "display_data"
    }
   ],
   "source": [
    "figure(figsize=(12, 4))\n",
    "\n",
    "subplot(121)\n",
    "xs, _ = fb_lin_data; plot(ts, xs[:, 0], linewidth=3, label='FBL')\n",
    "xs, _ = energy_data; plot(ts, xs[:, 0], linewidth=3, label='Energy')\n",
    "xs, _ = qp_data; plot(ts, xs[:, 0], linewidth=3, label='QP')\n",
    "grid(); legend(fontsize=16)\n",
    "xlabel('Time (sec)', fontsize=16); ylabel('$\\\\theta$', fontsize=16)\n",
    "\n",
    "subplot(122)\n",
    "_, us = fb_lin_data; plot(ts[:-1], us, linewidth=3, label='FBL')\n",
    "_, us = energy_data; plot(ts[:-1], us, linewidth=3, label='Energy')\n",
    "_, us = qp_data; plot(ts[:-1], us, linewidth=3, label='QP')\n",
    "grid(); legend(fontsize=16)\n",
    "xlabel('Time (sec)', fontsize=16); ylabel('$\\\\tau$', fontsize=16)\n",
    "\n",
    "show()"
   ]
  },
  {
   "cell_type": "markdown",
   "metadata": {
    "slideshow": {
     "slide_type": "subslide"
    }
   },
   "source": [
    "Let's compare this to the results with $\\rho = 25$ and $\\rho = 250$ for regularization around the linearizing feedback controller."
   ]
  },
  {
   "cell_type": "code",
   "execution_count": 13,
   "metadata": {
    "slideshow": {
     "slide_type": "fragment"
    }
   },
   "outputs": [],
   "source": [
    "qp_25 = QPController.build_care(ip, Q, R)\n",
    "qp_25.add_regularizer(fb_lin, 25)\n",
    "\n",
    "qp_250 = QPController.build_care(ip, Q, R)\n",
    "qp_250.add_regularizer(fb_lin, 250)"
   ]
  },
  {
   "cell_type": "code",
   "execution_count": 14,
   "metadata": {
    "slideshow": {
     "slide_type": "fragment"
    }
   },
   "outputs": [],
   "source": [
    "qp_25_data = ip.simulate(x_0, qp_25, ts)\n",
    "qp_250_data = ip.simulate(x_0, qp_250, ts)"
   ]
  },
  {
   "cell_type": "code",
   "execution_count": 15,
   "metadata": {
    "slideshow": {
     "slide_type": "subslide"
    }
   },
   "outputs": [
    {
     "data": {
      "image/png": "[encoded data removed]",
      "text/plain": [
       "<matplotlib.figure.Figure at 0x112e503c8>"
      ]
     },
     "metadata": {},
     "output_type": "display_data"
    }
   ],
   "source": [
    "figure(figsize=(12, 4))\n",
    "\n",
    "subplot(121)\n",
    "xs, _ = qp_data; plot(ts, xs[:, 0], linewidth=3, label='$\\\\rho = 0$')\n",
    "xs, _ = qp_25_data; plot(ts, xs[:, 0], linewidth=3, label='$\\\\rho = 25$')\n",
    "xs, _ = qp_250_data; plot(ts, xs[:, 0], linewidth=3, label='$\\\\rho = 250$')\n",
    "grid(); legend(fontsize=16)\n",
    "xlabel('Time (sec)', fontsize=16); ylabel('$\\\\theta$', fontsize=16)\n",
    "\n",
    "subplot(122)\n",
    "_, us = qp_data; plot(ts[:-1], us, linewidth=3, label='$\\\\rho = 0$')\n",
    "_, us = qp_25_data; plot(ts[:-1], us, linewidth=3, label='$\\\\rho = 25$')\n",
    "_, us = qp_250_data; plot(ts[:-1], us, linewidth=3, label='$\\\\rho = 250$')\n",
    "grid(); legend(fontsize=16)\n",
    "xlabel('Time (sec)', fontsize=16); ylabel('$\\\\tau$', fontsize=16)\n",
    "\n",
    "show()"
   ]
  }
 ],
 "metadata": {
  "celltoolbar": "Slideshow",
  "kernelspec": {
   "display_name": "Python 3",
   "language": "python",
   "name": "python3"
  },
  "language_info": {
   "codemirror_mode": {
    "name": "ipython",
    "version": 3
   },
   "file_extension": ".py",
   "mimetype": "text/x-python",
   "name": "python",
   "nbconvert_exporter": "python",
   "pygments_lexer": "ipython3",
   "version": "3.5.2"
  }
 },
 "nbformat": 4,
 "nbformat_minor": 2
}
